{
 "cells": [
  {
   "cell_type": "code",
   "execution_count": 1,
   "metadata": {
    "executionInfo": {
     "elapsed": 569,
     "status": "ok",
     "timestamp": 1704909619354,
     "user": {
      "displayName": "Mary Paterson",
      "userId": "13890049290710197195"
     },
     "user_tz": 0
    },
    "id": "NQSj1r2mw49E"
   },
   "outputs": [],
   "source": [
    "import librosa\n",
    "import os\n",
    "import numpy as np\n",
    "import pandas as pd"
   ]
  },
  {
   "cell_type": "code",
   "execution_count": 2,
   "metadata": {},
   "outputs": [],
   "source": [
    "cwd = os.getcwd()\n",
    "parent_dir = os.path.dirname(cwd)"
   ]
  },
  {
   "cell_type": "code",
   "execution_count": 3,
   "metadata": {
    "colab": {
     "base_uri": "https://localhost:8080/"
    },
    "executionInfo": {
     "elapsed": 5,
     "status": "ok",
     "timestamp": 1704909619354,
     "user": {
      "displayName": "Mary Paterson",
      "userId": "13890049290710197195"
     },
     "user_tz": 0
    },
    "id": "2M6n3XB2y7yr",
    "outputId": "89b91bfb-41f6-4dd5-aa88-8e5676299955"
   },
   "outputs": [],
   "source": [
    "columns=['file', 'mfcc']\n",
    "df = pd.DataFrame(columns=columns)"
   ]
  },
  {
   "cell_type": "code",
   "execution_count": 4,
   "metadata": {
    "executionInfo": {
     "elapsed": 47242,
     "status": "ok",
     "timestamp": 1704909666593,
     "user": {
      "displayName": "Mary Paterson",
      "userId": "13890049290710197195"
     },
     "user_tz": 0
    },
    "id": "jY4hJp94w8ej"
   },
   "outputs": [],
   "source": [
    "source_dir = f'{parent_dir}/Audio/'"
   ]
  },
  {
   "cell_type": "code",
   "execution_count": 6,
   "metadata": {
    "executionInfo": {
     "elapsed": 47242,
     "status": "ok",
     "timestamp": 1704909666593,
     "user": {
      "displayName": "Mary Paterson",
      "userId": "13890049290710197195"
     },
     "user_tz": 0
    },
    "id": "jY4hJp94w8ej"
   },
   "outputs": [],
   "source": [
    "#Loops through each audio file and converts it to MFCC\n",
    "for subdir, dirs, files in os.walk(source_dir):\n",
    "  for file in files:\n",
    "    if file.endswith('.wav'):\n",
    "      y, sr = librosa.load(subdir+'/'+file, sr=16000)\n",
    "      mfcc = librosa.feature.mfcc(y=y, sr=sr)\n",
    "        \n",
    "      row=[file, mfcc]\n",
    "\n",
    "      df.loc[len(df)]=row"
   ]
  },
  {
   "cell_type": "code",
   "execution_count": 7,
   "metadata": {},
   "outputs": [
    {
     "data": {
      "text/html": [
       "<div>\n",
       "<style scoped>\n",
       "    .dataframe tbody tr th:only-of-type {\n",
       "        vertical-align: middle;\n",
       "    }\n",
       "\n",
       "    .dataframe tbody tr th {\n",
       "        vertical-align: top;\n",
       "    }\n",
       "\n",
       "    .dataframe thead th {\n",
       "        text-align: right;\n",
       "    }\n",
       "</style>\n",
       "<table border=\"1\" class=\"dataframe\">\n",
       "  <thead>\n",
       "    <tr style=\"text-align: right;\">\n",
       "      <th></th>\n",
       "      <th>file</th>\n",
       "      <th>mfcc</th>\n",
       "    </tr>\n",
       "  </thead>\n",
       "  <tbody>\n",
       "    <tr>\n",
       "      <th>0</th>\n",
       "      <td>Atrophy-00002mg.wav</td>\n",
       "      <td>[[-158.49106, -148.60818, -148.57915, -137.122...</td>\n",
       "    </tr>\n",
       "    <tr>\n",
       "      <th>1</th>\n",
       "      <td>Atrophy-0001297.wav</td>\n",
       "      <td>[[-447.76328, -263.666, -138.50848, -73.347115...</td>\n",
       "    </tr>\n",
       "    <tr>\n",
       "      <th>2</th>\n",
       "      <td>Atrophy-0001apo.wav</td>\n",
       "      <td>[[-367.94904, -396.45224, -449.00287, -444.233...</td>\n",
       "    </tr>\n",
       "    <tr>\n",
       "      <th>3</th>\n",
       "      <td>Atrophy-0001qd3.wav</td>\n",
       "      <td>[[-182.14597, -181.25394, -209.93146, -219.883...</td>\n",
       "    </tr>\n",
       "    <tr>\n",
       "      <th>4</th>\n",
       "      <td>Atrophy-0002ipt.wav</td>\n",
       "      <td>[[-65.575005, -27.961926, -20.60261, -9.871352...</td>\n",
       "    </tr>\n",
       "  </tbody>\n",
       "</table>\n",
       "</div>"
      ],
      "text/plain": [
       "                  file                                               mfcc\n",
       "0  Atrophy-00002mg.wav  [[-158.49106, -148.60818, -148.57915, -137.122...\n",
       "1  Atrophy-0001297.wav  [[-447.76328, -263.666, -138.50848, -73.347115...\n",
       "2  Atrophy-0001apo.wav  [[-367.94904, -396.45224, -449.00287, -444.233...\n",
       "3  Atrophy-0001qd3.wav  [[-182.14597, -181.25394, -209.93146, -219.883...\n",
       "4  Atrophy-0002ipt.wav  [[-65.575005, -27.961926, -20.60261, -9.871352..."
      ]
     },
     "execution_count": 7,
     "metadata": {},
     "output_type": "execute_result"
    }
   ],
   "source": [
    "df.head()"
   ]
  },
  {
   "cell_type": "code",
   "execution_count": 8,
   "metadata": {
    "executionInfo": {
     "elapsed": 14,
     "status": "ok",
     "timestamp": 1704909666594,
     "user": {
      "displayName": "Mary Paterson",
      "userId": "13890049290710197195"
     },
     "user_tz": 0
    },
    "id": "Gvrm4Ne30rai"
   },
   "outputs": [],
   "source": [
    "df.to_pickle(f'{parent_dir}/Audio Features/MFCC_FEMH.pkl')"
   ]
  },
  {
   "cell_type": "code",
   "execution_count": null,
   "metadata": {},
   "outputs": [],
   "source": []
  }
 ],
 "metadata": {
  "colab": {
   "authorship_tag": "ABX9TyMc0bPLS89N2tmW+m/3tTOb",
   "provenance": []
  },
  "kernelspec": {
   "display_name": "Python 3 (ipykernel)",
   "language": "python",
   "name": "python3"
  },
  "language_info": {
   "codemirror_mode": {
    "name": "ipython",
    "version": 3
   },
   "file_extension": ".py",
   "mimetype": "text/x-python",
   "name": "python",
   "nbconvert_exporter": "python",
   "pygments_lexer": "ipython3",
   "version": "3.10.12"
  }
 },
 "nbformat": 4,
 "nbformat_minor": 4
}
