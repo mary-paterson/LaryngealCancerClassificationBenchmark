{
 "cells": [
  {
   "cell_type": "code",
   "execution_count": 1,
   "metadata": {
    "executionInfo": {
     "elapsed": 569,
     "status": "ok",
     "timestamp": 1704909619354,
     "user": {
      "displayName": "Mary Paterson",
      "userId": "13890049290710197195"
     },
     "user_tz": 0
    },
    "id": "NQSj1r2mw49E"
   },
   "outputs": [],
   "source": [
    "import librosa\n",
    "import os\n",
    "import numpy as np\n",
    "import pandas as pd"
   ]
  },
  {
   "cell_type": "code",
   "execution_count": 2,
   "metadata": {},
   "outputs": [],
   "source": [
    "cwd = os.getcwd()"
   ]
  },
  {
   "cell_type": "code",
   "execution_count": 3,
   "metadata": {
    "colab": {
     "base_uri": "https://localhost:8080/"
    },
    "executionInfo": {
     "elapsed": 5,
     "status": "ok",
     "timestamp": 1704909619354,
     "user": {
      "displayName": "Mary Paterson",
      "userId": "13890049290710197195"
     },
     "user_tz": 0
    },
    "id": "2M6n3XB2y7yr",
    "outputId": "89b91bfb-41f6-4dd5-aa88-8e5676299955"
   },
   "outputs": [
    {
     "name": "stdout",
     "output_type": "stream",
     "text": [
      "['file', 'mfcc', 'pathology']\n"
     ]
    }
   ],
   "source": [
    "columns=['file', 'mfcc', 'pathology']\n",
    "print(columns)"
   ]
  },
  {
   "cell_type": "code",
   "execution_count": 4,
   "metadata": {
    "executionInfo": {
     "elapsed": 47242,
     "status": "ok",
     "timestamp": 1704909666593,
     "user": {
      "displayName": "Mary Paterson",
      "userId": "13890049290710197195"
     },
     "user_tz": 0
    },
    "id": "jY4hJp94w8ej"
   },
   "outputs": [],
   "source": [
    "signals = []\n",
    "df = pd.DataFrame(columns=columns)\n",
    "\n",
    "counter = 0\n",
    "\n",
    "source_dir = f'{cwd}/Audio/'\n",
    "\n",
    "for subdir, dirs, files in os.walk(source_dir):\n",
    "  for file in files:\n",
    "    if file.endswith('.wav'):\n",
    "      counter+=1\n",
    "      y, sr = librosa.load(subdir+'/'+file, sr=16000)\n",
    "      signals.append(y)\n",
    "      mfcc = librosa.feature.mfcc(y=y, sr=sr)\n",
    "      pathology = file.split('-')[0]\n",
    "\n",
    "      row=[file, mfcc, pathology]\n",
    "\n",
    "      df.loc[len(df)]=row"
   ]
  },
  {
   "cell_type": "code",
   "execution_count": 5,
   "metadata": {},
   "outputs": [
    {
     "data": {
      "text/html": [
       "<div>\n",
       "<style scoped>\n",
       "    .dataframe tbody tr th:only-of-type {\n",
       "        vertical-align: middle;\n",
       "    }\n",
       "\n",
       "    .dataframe tbody tr th {\n",
       "        vertical-align: top;\n",
       "    }\n",
       "\n",
       "    .dataframe thead th {\n",
       "        text-align: right;\n",
       "    }\n",
       "</style>\n",
       "<table border=\"1\" class=\"dataframe\">\n",
       "  <thead>\n",
       "    <tr style=\"text-align: right;\">\n",
       "      <th></th>\n",
       "      <th>file</th>\n",
       "      <th>mfcc</th>\n",
       "      <th>pathology</th>\n",
       "    </tr>\n",
       "  </thead>\n",
       "  <tbody>\n",
       "    <tr>\n",
       "      <th>0</th>\n",
       "      <td>Atrophy-00002mg.wav</td>\n",
       "      <td>[[-158.49106, -148.60818, -148.57915, -137.122...</td>\n",
       "      <td>Atrophy</td>\n",
       "    </tr>\n",
       "    <tr>\n",
       "      <th>1</th>\n",
       "      <td>Atrophy-0001297.wav</td>\n",
       "      <td>[[-447.76328, -263.666, -138.50848, -73.347115...</td>\n",
       "      <td>Atrophy</td>\n",
       "    </tr>\n",
       "    <tr>\n",
       "      <th>2</th>\n",
       "      <td>Atrophy-0001apo.wav</td>\n",
       "      <td>[[-367.94904, -396.45224, -449.00287, -444.233...</td>\n",
       "      <td>Atrophy</td>\n",
       "    </tr>\n",
       "    <tr>\n",
       "      <th>3</th>\n",
       "      <td>Atrophy-0001qd3.wav</td>\n",
       "      <td>[[-182.14597, -181.25394, -209.93146, -219.883...</td>\n",
       "      <td>Atrophy</td>\n",
       "    </tr>\n",
       "    <tr>\n",
       "      <th>4</th>\n",
       "      <td>Atrophy-0002ipt.wav</td>\n",
       "      <td>[[-65.575005, -27.961926, -20.60261, -9.871352...</td>\n",
       "      <td>Atrophy</td>\n",
       "    </tr>\n",
       "  </tbody>\n",
       "</table>\n",
       "</div>"
      ],
      "text/plain": [
       "                  file                                               mfcc  \\\n",
       "0  Atrophy-00002mg.wav  [[-158.49106, -148.60818, -148.57915, -137.122...   \n",
       "1  Atrophy-0001297.wav  [[-447.76328, -263.666, -138.50848, -73.347115...   \n",
       "2  Atrophy-0001apo.wav  [[-367.94904, -396.45224, -449.00287, -444.233...   \n",
       "3  Atrophy-0001qd3.wav  [[-182.14597, -181.25394, -209.93146, -219.883...   \n",
       "4  Atrophy-0002ipt.wav  [[-65.575005, -27.961926, -20.60261, -9.871352...   \n",
       "\n",
       "  pathology  \n",
       "0   Atrophy  \n",
       "1   Atrophy  \n",
       "2   Atrophy  \n",
       "3   Atrophy  \n",
       "4   Atrophy  "
      ]
     },
     "execution_count": 5,
     "metadata": {},
     "output_type": "execute_result"
    }
   ],
   "source": [
    "df.head()"
   ]
  },
  {
   "cell_type": "code",
   "execution_count": 6,
   "metadata": {},
   "outputs": [
    {
     "data": {
      "text/plain": [
       "pathology\n",
       "Polyp                       202\n",
       "Nodules                     200\n",
       "Atrophy                     189\n",
       "Cyst                        175\n",
       "Vocal paresis               164\n",
       "Vocal palsy                 164\n",
       "Reinke’s edema              144\n",
       "Sulcus                      127\n",
       "Muscle tension dysphonia    117\n",
       "Presbyphonia                115\n",
       "Vocal process granuloma      86\n",
       "Fibrous mass                 84\n",
       "Ulcer                        64\n",
       "Spasmodic dysphonia          34\n",
       "Laryngeal cancer             31\n",
       "Dysplasia                    29\n",
       "Papilloma                    28\n",
       "Tremor                       18\n",
       "Scar                         15\n",
       "Varix                        14\n",
       "Name: count, dtype: int64"
      ]
     },
     "execution_count": 6,
     "metadata": {},
     "output_type": "execute_result"
    }
   ],
   "source": [
    "df['pathology'].value_counts()"
   ]
  },
  {
   "cell_type": "code",
   "execution_count": 8,
   "metadata": {
    "executionInfo": {
     "elapsed": 14,
     "status": "ok",
     "timestamp": 1704909666594,
     "user": {
      "displayName": "Mary Paterson",
      "userId": "13890049290710197195"
     },
     "user_tz": 0
    },
    "id": "Gvrm4Ne30rai"
   },
   "outputs": [],
   "source": [
    "df.to_pickle('Raw Features/MFCC_FEMH.pkl')"
   ]
  },
  {
   "cell_type": "markdown",
   "metadata": {},
   "source": [
    "# SVD"
   ]
  },
  {
   "cell_type": "code",
   "execution_count": 3,
   "metadata": {
    "colab": {
     "base_uri": "https://localhost:8080/"
    },
    "executionInfo": {
     "elapsed": 5,
     "status": "ok",
     "timestamp": 1704909619354,
     "user": {
      "displayName": "Mary Paterson",
      "userId": "13890049290710197195"
     },
     "user_tz": 0
    },
    "id": "2M6n3XB2y7yr",
    "outputId": "89b91bfb-41f6-4dd5-aa88-8e5676299955"
   },
   "outputs": [
    {
     "name": "stdout",
     "output_type": "stream",
     "text": [
      "['file', 'mfcc']\n"
     ]
    }
   ],
   "source": [
    "columns=['file', 'mfcc']\n",
    "print(columns)"
   ]
  },
  {
   "cell_type": "code",
   "execution_count": 7,
   "metadata": {
    "executionInfo": {
     "elapsed": 47242,
     "status": "ok",
     "timestamp": 1704909666593,
     "user": {
      "displayName": "Mary Paterson",
      "userId": "13890049290710197195"
     },
     "user_tz": 0
    },
    "id": "jY4hJp94w8ej"
   },
   "outputs": [],
   "source": [
    "signals = []\n",
    "df = pd.DataFrame(columns=columns)\n",
    "\n",
    "counter = 0\n",
    "\n",
    "source_dir = f'C:/Users/maryp/OneDrive/Documents/CDT/Data/Saarbruecken Voice Database/AllPathological/export'\n",
    "\n",
    "for subdir, dirs, files in os.walk(source_dir):\n",
    "  for file in files:\n",
    "    if file.endswith('.wav'):\n",
    "      counter+=1\n",
    "      y, sr = librosa.load(subdir+'/'+file, sr=16000)\n",
    "      signals.append(y)\n",
    "      mfcc = librosa.feature.mfcc(y=y, sr=sr)\n",
    "\n",
    "      row=[file, mfcc]\n",
    "\n",
    "      df.loc[len(df)]=row"
   ]
  },
  {
   "cell_type": "code",
   "execution_count": 8,
   "metadata": {},
   "outputs": [
    {
     "data": {
      "text/html": [
       "<div>\n",
       "<style scoped>\n",
       "    .dataframe tbody tr th:only-of-type {\n",
       "        vertical-align: middle;\n",
       "    }\n",
       "\n",
       "    .dataframe tbody tr th {\n",
       "        vertical-align: top;\n",
       "    }\n",
       "\n",
       "    .dataframe thead th {\n",
       "        text-align: right;\n",
       "    }\n",
       "</style>\n",
       "<table border=\"1\" class=\"dataframe\">\n",
       "  <thead>\n",
       "    <tr style=\"text-align: right;\">\n",
       "      <th></th>\n",
       "      <th>file</th>\n",
       "      <th>mfcc</th>\n",
       "    </tr>\n",
       "  </thead>\n",
       "  <tbody>\n",
       "    <tr>\n",
       "      <th>0</th>\n",
       "      <td>101-a_n.wav</td>\n",
       "      <td>[[-109.05164, -84.43496, -89.327095, -104.7268...</td>\n",
       "    </tr>\n",
       "    <tr>\n",
       "      <th>1</th>\n",
       "      <td>1037-a_n.wav</td>\n",
       "      <td>[[-151.93205, -120.74354, -114.28282, -122.068...</td>\n",
       "    </tr>\n",
       "    <tr>\n",
       "      <th>2</th>\n",
       "      <td>1038-a_n.wav</td>\n",
       "      <td>[[-157.22623, -164.28477, -175.8553, -179.9412...</td>\n",
       "    </tr>\n",
       "    <tr>\n",
       "      <th>3</th>\n",
       "      <td>1039-a_n.wav</td>\n",
       "      <td>[[-108.701416, -84.7392, -87.75787, -94.33401,...</td>\n",
       "    </tr>\n",
       "    <tr>\n",
       "      <th>4</th>\n",
       "      <td>1040-a_n.wav</td>\n",
       "      <td>[[-196.9985, -216.63673, -257.5494, -268.20676...</td>\n",
       "    </tr>\n",
       "  </tbody>\n",
       "</table>\n",
       "</div>"
      ],
      "text/plain": [
       "           file                                               mfcc\n",
       "0   101-a_n.wav  [[-109.05164, -84.43496, -89.327095, -104.7268...\n",
       "1  1037-a_n.wav  [[-151.93205, -120.74354, -114.28282, -122.068...\n",
       "2  1038-a_n.wav  [[-157.22623, -164.28477, -175.8553, -179.9412...\n",
       "3  1039-a_n.wav  [[-108.701416, -84.7392, -87.75787, -94.33401,...\n",
       "4  1040-a_n.wav  [[-196.9985, -216.63673, -257.5494, -268.20676..."
      ]
     },
     "execution_count": 8,
     "metadata": {},
     "output_type": "execute_result"
    }
   ],
   "source": [
    "df.head()"
   ]
  },
  {
   "cell_type": "code",
   "execution_count": 9,
   "metadata": {
    "executionInfo": {
     "elapsed": 14,
     "status": "ok",
     "timestamp": 1704909666594,
     "user": {
      "displayName": "Mary Paterson",
      "userId": "13890049290710197195"
     },
     "user_tz": 0
    },
    "id": "Gvrm4Ne30rai"
   },
   "outputs": [],
   "source": [
    "df.to_pickle('Raw Features/MFCC_SVD.pkl')"
   ]
  },
  {
   "cell_type": "code",
   "execution_count": null,
   "metadata": {},
   "outputs": [],
   "source": []
  }
 ],
 "metadata": {
  "colab": {
   "authorship_tag": "ABX9TyMc0bPLS89N2tmW+m/3tTOb",
   "provenance": []
  },
  "kernelspec": {
   "display_name": "Python 3 (ipykernel)",
   "language": "python",
   "name": "python3"
  },
  "language_info": {
   "codemirror_mode": {
    "name": "ipython",
    "version": 3
   },
   "file_extension": ".py",
   "mimetype": "text/x-python",
   "name": "python",
   "nbconvert_exporter": "python",
   "pygments_lexer": "ipython3",
   "version": "3.12.2"
  }
 },
 "nbformat": 4,
 "nbformat_minor": 4
}
