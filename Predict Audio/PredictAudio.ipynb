{
 "cells": [
  {
   "cell_type": "code",
   "execution_count": 1,
   "id": "69edc1e6-e0cc-4277-8b9b-8e4f1229fbed",
   "metadata": {},
   "outputs": [],
   "source": [
    "import AudioPrediction\n",
    "import pandas as pd\n",
    "import joblib\n",
    "import os"
   ]
  },
  {
   "cell_type": "code",
   "execution_count": 2,
   "id": "b7e00deb-e0e5-4b52-9822-5435f29b6272",
   "metadata": {},
   "outputs": [],
   "source": [
    "#Gets the current working directory and parent directory to make loading files easier\n",
    "cwd = os.getcwd()\n",
    "parent_dir = os.path.dirname(cwd)"
   ]
  },
  {
   "cell_type": "code",
   "execution_count": 6,
   "id": "d9970535-c9e6-414c-8fee-06ebcf3a1628",
   "metadata": {},
   "outputs": [
    {
     "data": {
      "text/html": [
       "<div>\n",
       "<style scoped>\n",
       "    .dataframe tbody tr th:only-of-type {\n",
       "        vertical-align: middle;\n",
       "    }\n",
       "\n",
       "    .dataframe tbody tr th {\n",
       "        vertical-align: top;\n",
       "    }\n",
       "\n",
       "    .dataframe thead th {\n",
       "        text-align: right;\n",
       "    }\n",
       "</style>\n",
       "<table border=\"1\" class=\"dataframe\">\n",
       "  <thead>\n",
       "    <tr style=\"text-align: right;\">\n",
       "      <th></th>\n",
       "      <th>ID</th>\n",
       "      <th>Sex</th>\n",
       "      <th>Age</th>\n",
       "      <th>Disease category</th>\n",
       "      <th>Narrow pitch range</th>\n",
       "      <th>Decreased volume</th>\n",
       "      <th>Fatigue</th>\n",
       "      <th>Dryness</th>\n",
       "      <th>Lumping</th>\n",
       "      <th>Heartburn</th>\n",
       "      <th>...</th>\n",
       "      <th>Occupational vocal demand</th>\n",
       "      <th>Diabetes</th>\n",
       "      <th>Hypertension</th>\n",
       "      <th>CAD</th>\n",
       "      <th>Head and Neck Cancer</th>\n",
       "      <th>Head injury</th>\n",
       "      <th>CVA</th>\n",
       "      <th>Voice handicap index - 10</th>\n",
       "      <th>pathology</th>\n",
       "      <th>filename</th>\n",
       "    </tr>\n",
       "  </thead>\n",
       "  <tbody>\n",
       "    <tr>\n",
       "      <th>0</th>\n",
       "      <td>00002mg</td>\n",
       "      <td>1</td>\n",
       "      <td>97</td>\n",
       "      <td>3.Atrophy</td>\n",
       "      <td>0</td>\n",
       "      <td>0</td>\n",
       "      <td>0</td>\n",
       "      <td>0</td>\n",
       "      <td>0</td>\n",
       "      <td>0</td>\n",
       "      <td>...</td>\n",
       "      <td>2</td>\n",
       "      <td>0</td>\n",
       "      <td>0</td>\n",
       "      <td>0</td>\n",
       "      <td>0</td>\n",
       "      <td>0</td>\n",
       "      <td>0</td>\n",
       "      <td>12</td>\n",
       "      <td>Atrophy</td>\n",
       "      <td>Atrophy-00002mg</td>\n",
       "    </tr>\n",
       "    <tr>\n",
       "      <th>1</th>\n",
       "      <td>0001297</td>\n",
       "      <td>1</td>\n",
       "      <td>86</td>\n",
       "      <td>3.Atrophy</td>\n",
       "      <td>0</td>\n",
       "      <td>0</td>\n",
       "      <td>0</td>\n",
       "      <td>0</td>\n",
       "      <td>0</td>\n",
       "      <td>0</td>\n",
       "      <td>...</td>\n",
       "      <td>4</td>\n",
       "      <td>0</td>\n",
       "      <td>1</td>\n",
       "      <td>0</td>\n",
       "      <td>0</td>\n",
       "      <td>0</td>\n",
       "      <td>1</td>\n",
       "      <td>36</td>\n",
       "      <td>Atrophy</td>\n",
       "      <td>Atrophy-0001297</td>\n",
       "    </tr>\n",
       "    <tr>\n",
       "      <th>2</th>\n",
       "      <td>0001apo</td>\n",
       "      <td>2</td>\n",
       "      <td>45</td>\n",
       "      <td>3.Atrophy</td>\n",
       "      <td>0</td>\n",
       "      <td>0</td>\n",
       "      <td>0</td>\n",
       "      <td>1</td>\n",
       "      <td>0</td>\n",
       "      <td>0</td>\n",
       "      <td>...</td>\n",
       "      <td>3</td>\n",
       "      <td>0</td>\n",
       "      <td>0</td>\n",
       "      <td>0</td>\n",
       "      <td>0</td>\n",
       "      <td>0</td>\n",
       "      <td>0</td>\n",
       "      <td>16</td>\n",
       "      <td>Atrophy</td>\n",
       "      <td>Atrophy-0001apo</td>\n",
       "    </tr>\n",
       "    <tr>\n",
       "      <th>3</th>\n",
       "      <td>0001qd3</td>\n",
       "      <td>1</td>\n",
       "      <td>75</td>\n",
       "      <td>3.Atrophy</td>\n",
       "      <td>1</td>\n",
       "      <td>1</td>\n",
       "      <td>0</td>\n",
       "      <td>0</td>\n",
       "      <td>1</td>\n",
       "      <td>0</td>\n",
       "      <td>...</td>\n",
       "      <td>3</td>\n",
       "      <td>0</td>\n",
       "      <td>0</td>\n",
       "      <td>1</td>\n",
       "      <td>0</td>\n",
       "      <td>0</td>\n",
       "      <td>0</td>\n",
       "      <td>19</td>\n",
       "      <td>Atrophy</td>\n",
       "      <td>Atrophy-0001qd3</td>\n",
       "    </tr>\n",
       "    <tr>\n",
       "      <th>4</th>\n",
       "      <td>0002ipt</td>\n",
       "      <td>1</td>\n",
       "      <td>64</td>\n",
       "      <td>3.Atrophy</td>\n",
       "      <td>0</td>\n",
       "      <td>0</td>\n",
       "      <td>0</td>\n",
       "      <td>1</td>\n",
       "      <td>0</td>\n",
       "      <td>0</td>\n",
       "      <td>...</td>\n",
       "      <td>2</td>\n",
       "      <td>0</td>\n",
       "      <td>0</td>\n",
       "      <td>1</td>\n",
       "      <td>0</td>\n",
       "      <td>0</td>\n",
       "      <td>0</td>\n",
       "      <td>34</td>\n",
       "      <td>Atrophy</td>\n",
       "      <td>Atrophy-0002ipt</td>\n",
       "    </tr>\n",
       "  </tbody>\n",
       "</table>\n",
       "<p>5 rows × 30 columns</p>\n",
       "</div>"
      ],
      "text/plain": [
       "        ID Sex Age Disease category Narrow pitch range Decreased volume  \\\n",
       "0  00002mg   1  97        3.Atrophy                  0                0   \n",
       "1  0001297   1  86        3.Atrophy                  0                0   \n",
       "2  0001apo   2  45        3.Atrophy                  0                0   \n",
       "3  0001qd3   1  75        3.Atrophy                  1                1   \n",
       "4  0002ipt   1  64        3.Atrophy                  0                0   \n",
       "\n",
       "  Fatigue Dryness Lumping Heartburn  ... Occupational vocal demand Diabetes  \\\n",
       "0       0       0       0         0  ...                         2        0   \n",
       "1       0       0       0         0  ...                         4        0   \n",
       "2       0       1       0         0  ...                         3        0   \n",
       "3       0       0       1         0  ...                         3        0   \n",
       "4       0       1       0         0  ...                         2        0   \n",
       "\n",
       "  Hypertension CAD  Head and Neck Cancer Head injury  CVA  \\\n",
       "0            0   0                     0           0    0   \n",
       "1            1   0                     0           0    1   \n",
       "2            0   0                     0           0    0   \n",
       "3            0   1                     0           0    0   \n",
       "4            0   1                     0           0    0   \n",
       "\n",
       "  Voice handicap index - 10 pathology         filename  \n",
       "0                        12   Atrophy  Atrophy-00002mg  \n",
       "1                        36   Atrophy  Atrophy-0001297  \n",
       "2                        16   Atrophy  Atrophy-0001apo  \n",
       "3                        19   Atrophy  Atrophy-0001qd3  \n",
       "4                        34   Atrophy  Atrophy-0002ipt  \n",
       "\n",
       "[5 rows x 30 columns]"
      ]
     },
     "execution_count": 6,
     "metadata": {},
     "output_type": "execute_result"
    }
   ],
   "source": [
    "#Load a dataframe containing all filenames, symptoms and demographics as required by the model\n",
    "demographics = pd.read_pickle(f'{parent_dir}/Audio Demographics/FEMH_demographics.pkl')\n",
    "demographics.head()"
   ]
  },
  {
   "cell_type": "code",
   "execution_count": 9,
   "id": "42474a7b-5590-4dc2-92b7-5a4ab36ada4e",
   "metadata": {},
   "outputs": [
    {
     "data": {
      "text/plain": [
       "660"
      ]
     },
     "execution_count": 9,
     "metadata": {},
     "output_type": "execute_result"
    }
   ],
   "source": [
    "#Load the test files\n",
    "test_files = joblib.load('FEMH_test_files.pkl')\n",
    "len(test_files)"
   ]
  },
  {
   "cell_type": "code",
   "execution_count": 11,
   "id": "cc9c533c-f967-462d-95a4-e6fd7314ec2a",
   "metadata": {},
   "outputs": [
    {
     "data": {
      "text/plain": [
       "(660, 30)"
      ]
     },
     "execution_count": 11,
     "metadata": {},
     "output_type": "execute_result"
    }
   ],
   "source": [
    "#Extracting test files from demographics\n",
    "test_demographics = demographics[demographics['filename'].isin(test_files)]\n",
    "test_demographics = test_demographics.reset_index(drop=True)\n",
    "test_demographics.shape"
   ]
  },
  {
   "cell_type": "code",
   "execution_count": 12,
   "id": "1fa3516b-1052-40ef-ae24-25b61f06c120",
   "metadata": {},
   "outputs": [],
   "source": [
    "#Load in the trained classifier\n",
    "trained_model = joblib.load(f'{parent_dir}/Pre-Trained Models/SVM/SVM_FeatureStates_Rec_Only.pkl')"
   ]
  },
  {
   "cell_type": "code",
   "execution_count": 13,
   "id": "e45e7e6b-cccd-4943-9407-0a82b2658b3f",
   "metadata": {},
   "outputs": [],
   "source": [
    "#Define the audio directory\n",
    "audio_dir = 'C:/Users/maryp/OneDrive/Documents/CDT/Year4/FEMH New Data/Audio'"
   ]
  },
  {
   "cell_type": "code",
   "execution_count": null,
   "id": "37f015fa-381f-45ab-ae6f-4eedb00f9769",
   "metadata": {},
   "outputs": [
    {
     "name": "stdout",
     "output_type": "stream",
     "text": [
      "Checking data format...\n",
      "All features are as expected\n",
      "Extracting features...\n"
     ]
    },
    {
     "name": "stderr",
     "output_type": "stream",
     "text": [
      "Some weights of Wav2Vec2Model were not initialized from the model checkpoint at facebook/wav2vec2-large-xlsr-53 and are newly initialized: ['wav2vec2.encoder.pos_conv_embed.conv.parametrizations.weight.original0', 'wav2vec2.encoder.pos_conv_embed.conv.parametrizations.weight.original1']\n",
      "You should probably TRAIN this model on a down-stream task to be able to use it for predictions and inference.\n"
     ]
    }
   ],
   "source": [
    "#Make predictions using the loaded trained model, make sure the feature variable is one of FeatureStates, OpenSmile, or MFCC \n",
    "#and matches the features used in the loaded model\n",
    "\n",
    "y_pred = AudioPrediction.predict(demographics, trained_model, audio_dir, feature='FeatureStates', audio_col='filename')"
   ]
  },
  {
   "cell_type": "code",
   "execution_count": null,
   "id": "71e2d95d-1a03-419b-a9bb-ff54460d6f08",
   "metadata": {},
   "outputs": [],
   "source": []
  }
 ],
 "metadata": {
  "kernelspec": {
   "display_name": "Python 3 (ipykernel)",
   "language": "python",
   "name": "python3"
  },
  "language_info": {
   "codemirror_mode": {
    "name": "ipython",
    "version": 3
   },
   "file_extension": ".py",
   "mimetype": "text/x-python",
   "name": "python",
   "nbconvert_exporter": "python",
   "pygments_lexer": "ipython3",
   "version": "3.12.2"
  }
 },
 "nbformat": 4,
 "nbformat_minor": 5
}
