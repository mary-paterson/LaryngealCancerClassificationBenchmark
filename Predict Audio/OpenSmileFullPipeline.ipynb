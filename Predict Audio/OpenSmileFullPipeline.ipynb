{
 "cells": [
  {
   "cell_type": "code",
   "execution_count": 22,
   "id": "63dab038-79f6-482e-9eba-12480de26b37",
   "metadata": {},
   "outputs": [],
   "source": [
    "import pandas as pd\n",
    "import numpy as np\n",
    "from sklearn.model_selection import GridSearchCV\n",
    "from sklearn.svm import SVC\n",
    "from sklearn.tree import DecisionTreeClassifier\n",
    "from sklearn.metrics import balanced_accuracy_score, confusion_matrix, ConfusionMatrixDisplay\n",
    "from sklearn.pipeline import Pipeline\n",
    "from sklearn.preprocessing import StandardScaler\n",
    "from sklearn.feature_selection import SelectFromModel\n",
    "from sklearn.model_selection import train_test_split\n",
    "from sklearn.impute import SimpleImputer\n",
    "from sklearn.utils.class_weight import compute_class_weight\n",
    "from sklearn.compose import ColumnTransformer\n",
    "\n",
    "import joblib\n",
    "\n",
    "import matplotlib.pyplot as plt\n",
    "import seaborn as sns\n",
    "import os\n",
    "import time"
   ]
  },
  {
   "cell_type": "code",
   "execution_count": 2,
   "id": "b2d0221d-2040-4886-ad3a-c47b701b830d",
   "metadata": {},
   "outputs": [],
   "source": [
    "cwd = os.getcwd()"
   ]
  },
  {
   "cell_type": "code",
   "execution_count": 6,
   "id": "5570ec29-5e11-4b47-a00c-8c8e7465050b",
   "metadata": {},
   "outputs": [],
   "source": [
    "parent_dir = os.path.dirname(cwd)\n",
    "grandparent_dir = os.path.dirname(parent_dir)\n",
    "grandparent_dir = os.path.dirname(grandparent_dir)"
   ]
  },
  {
   "cell_type": "code",
   "execution_count": 7,
   "id": "b19d217b-758f-4701-94ba-656207096cad",
   "metadata": {},
   "outputs": [],
   "source": [
    "trained_pipeline = joblib.load(f'{parent_dir}/Models/SVM_OpenSmile_Rec_Only.pkl')"
   ]
  },
  {
   "cell_type": "code",
   "execution_count": 8,
   "id": "75d7634b-e437-4dcd-878e-58297d00063c",
   "metadata": {},
   "outputs": [],
   "source": [
    "import opensmile\n",
    "from sklearn.base import BaseEstimator, TransformerMixin"
   ]
  },
  {
   "cell_type": "code",
   "execution_count": 9,
   "id": "4801ecf4-0fb9-4807-aba0-4860980b5391",
   "metadata": {},
   "outputs": [],
   "source": [
    "def get_audio_file_paths(audio_dir, file_extension=\".wav\"):\n",
    "    # List all files in the directory with the given extension\n",
    "    file_paths = glob.glob(os.path.join(audio_dir, f'*{file_extension}'))\n",
    "    return file_paths"
   ]
  },
  {
   "cell_type": "code",
   "execution_count": 10,
   "id": "0a6c9740-60cf-4e88-bfb5-dceedffdfb39",
   "metadata": {},
   "outputs": [],
   "source": [
    "class FeatureExtractor(BaseEstimator, TransformerMixin):\n",
    "    def __init__(self):\n",
    "        self.smile = opensmile.Smile(\n",
    "        feature_set=opensmile.FeatureSet.eGeMAPSv02,\n",
    "        feature_level=opensmile.FeatureLevel.Functionals,\n",
    "    )\n",
    "\n",
    "    def fit(self, X, y=None):\n",
    "        return self\n",
    "    \n",
    "    def transform(self, X):\n",
    "        # Extract features for each audio file and convert to DataFrame\n",
    "        features_list = [self.smile.process_file(file_path) for file_path in X]\n",
    "        # Concatenate all extracted features into a single DataFrame\n",
    "        features_df = pd.concat(features_list, axis=0, ignore_index=True)\n",
    "        return features_df"
   ]
  },
  {
   "cell_type": "code",
   "execution_count": 11,
   "id": "f83317cd-b70f-411e-a9a2-d8fbaeccd741",
   "metadata": {},
   "outputs": [],
   "source": [
    "class CombinedFeatureExtractor(BaseEstimator, TransformerMixin):\n",
    "    def __init__(self, audio_column='filename', include_columns=None, audio_dir=''):\n",
    "        self.audio_column = audio_column\n",
    "        self.include_columns = include_columns  # Columns to include from the DataFrame\n",
    "        self.audio_dir = audio_dir\n",
    "\n",
    "    def fit(self, X, y=None):\n",
    "        return self\n",
    "\n",
    "    def transform(self, X):\n",
    "        \n",
    "\n",
    "        # Extract filenames from the DataFrame\n",
    "        file_paths = X[self.audio_column].tolist()\n",
    "        file_paths = [f'{audio_dir}\\\\{file}.wav' for file in file_paths]\n",
    "        \n",
    "        num_samples = len(file_paths)\n",
    "\n",
    "        \n",
    "              \n",
    "        included_features = X.loc[:, X.columns.isin(self.include_columns)]\n",
    "\n",
    "        \n",
    "        \n",
    "        # Extract audio features\n",
    "        audio_feature_extractor = FeatureExtractor()\n",
    "        audio_features = audio_feature_extractor.transform(file_paths)\n",
    "\n",
    "        \n",
    "        \n",
    "        # Combine audio features with the included demographic and symptom features\n",
    "        combined_features = pd.concat([audio_features, included_features.reset_index(drop=True)], axis=1)\n",
    "\n",
    "        \n",
    "        \n",
    "        return combined_features\n"
   ]
  },
  {
   "cell_type": "code",
   "execution_count": 12,
   "id": "65649463-77cd-491b-aec6-b1e0fb2baefa",
   "metadata": {},
   "outputs": [],
   "source": [
    "audio_dir = f'{grandparent_dir}\\\\Audio\\\\'"
   ]
  },
  {
   "cell_type": "code",
   "execution_count": 13,
   "id": "e41d357b-adbc-4142-9732-3d68b0ff0869",
   "metadata": {},
   "outputs": [],
   "source": [
    "input_features = trained_pipeline.feature_names_in_"
   ]
  },
  {
   "cell_type": "code",
   "execution_count": 14,
   "id": "5297a7fa-4ccc-437b-a418-01be51160440",
   "metadata": {},
   "outputs": [],
   "source": [
    "# Define the combined feature extractor with specified columns\n",
    "combined_feature_extractor = CombinedFeatureExtractor(\n",
    "    audio_dir=audio_dir,\n",
    "    audio_column='filename',\n",
    "    include_columns=input_features\n",
    ")"
   ]
  },
  {
   "cell_type": "code",
   "execution_count": 15,
   "id": "3cc61caf-0ef5-46a4-94ff-7419958c189f",
   "metadata": {},
   "outputs": [],
   "source": [
    "# Define the pipeline\n",
    "new_pipeline = Pipeline([\n",
    "    ('features', combined_feature_extractor),\n",
    "    ('existing', trained_pipeline)  # This is your classifier pipeline\n",
    "])"
   ]
  },
  {
   "cell_type": "code",
   "execution_count": 16,
   "id": "20cfc73b-41b7-4d35-bf07-df0188d1333b",
   "metadata": {},
   "outputs": [],
   "source": [
    "demographics = pd.read_pickle(f'{grandparent_dir}/Audio/medicalhistory.pkl')\n",
    "demographics = demographics.drop(['ID', 'Disease category', 'pathology'], axis=1)\n",
    "demographics = demographics.reset_index()"
   ]
  },
  {
   "cell_type": "code",
   "execution_count": 17,
   "id": "fb6419cb-9944-4af7-84d5-ad59d9386920",
   "metadata": {},
   "outputs": [
    {
     "data": {
      "text/html": [
       "<div>\n",
       "<style scoped>\n",
       "    .dataframe tbody tr th:only-of-type {\n",
       "        vertical-align: middle;\n",
       "    }\n",
       "\n",
       "    .dataframe tbody tr th {\n",
       "        vertical-align: top;\n",
       "    }\n",
       "\n",
       "    .dataframe thead th {\n",
       "        text-align: right;\n",
       "    }\n",
       "</style>\n",
       "<table border=\"1\" class=\"dataframe\">\n",
       "  <thead>\n",
       "    <tr style=\"text-align: right;\">\n",
       "      <th></th>\n",
       "      <th>index</th>\n",
       "      <th>Sex</th>\n",
       "      <th>Age</th>\n",
       "      <th>Narrow pitch range</th>\n",
       "      <th>Decreased volume</th>\n",
       "      <th>Fatigue</th>\n",
       "      <th>Dryness</th>\n",
       "      <th>Lumping</th>\n",
       "      <th>Heartburn</th>\n",
       "      <th>Choking</th>\n",
       "      <th>...</th>\n",
       "      <th>Noise at work</th>\n",
       "      <th>Occupational vocal demand</th>\n",
       "      <th>Diabetes</th>\n",
       "      <th>Hypertension</th>\n",
       "      <th>CAD</th>\n",
       "      <th>Head and Neck Cancer</th>\n",
       "      <th>Head injury</th>\n",
       "      <th>CVA</th>\n",
       "      <th>Voice handicap index - 10</th>\n",
       "      <th>filename</th>\n",
       "    </tr>\n",
       "  </thead>\n",
       "  <tbody>\n",
       "    <tr>\n",
       "      <th>0</th>\n",
       "      <td>0</td>\n",
       "      <td>1</td>\n",
       "      <td>97</td>\n",
       "      <td>0</td>\n",
       "      <td>0</td>\n",
       "      <td>0</td>\n",
       "      <td>0</td>\n",
       "      <td>0</td>\n",
       "      <td>0</td>\n",
       "      <td>1</td>\n",
       "      <td>...</td>\n",
       "      <td>1</td>\n",
       "      <td>2</td>\n",
       "      <td>0</td>\n",
       "      <td>0</td>\n",
       "      <td>0</td>\n",
       "      <td>0</td>\n",
       "      <td>0</td>\n",
       "      <td>0</td>\n",
       "      <td>12</td>\n",
       "      <td>Atrophy-00002mg</td>\n",
       "    </tr>\n",
       "    <tr>\n",
       "      <th>1</th>\n",
       "      <td>1</td>\n",
       "      <td>1</td>\n",
       "      <td>86</td>\n",
       "      <td>0</td>\n",
       "      <td>0</td>\n",
       "      <td>0</td>\n",
       "      <td>0</td>\n",
       "      <td>0</td>\n",
       "      <td>0</td>\n",
       "      <td>1</td>\n",
       "      <td>...</td>\n",
       "      <td>1</td>\n",
       "      <td>4</td>\n",
       "      <td>0</td>\n",
       "      <td>1</td>\n",
       "      <td>0</td>\n",
       "      <td>0</td>\n",
       "      <td>0</td>\n",
       "      <td>1</td>\n",
       "      <td>36</td>\n",
       "      <td>Atrophy-0001297</td>\n",
       "    </tr>\n",
       "    <tr>\n",
       "      <th>2</th>\n",
       "      <td>2</td>\n",
       "      <td>2</td>\n",
       "      <td>45</td>\n",
       "      <td>0</td>\n",
       "      <td>0</td>\n",
       "      <td>0</td>\n",
       "      <td>1</td>\n",
       "      <td>0</td>\n",
       "      <td>0</td>\n",
       "      <td>0</td>\n",
       "      <td>...</td>\n",
       "      <td>1</td>\n",
       "      <td>3</td>\n",
       "      <td>0</td>\n",
       "      <td>0</td>\n",
       "      <td>0</td>\n",
       "      <td>0</td>\n",
       "      <td>0</td>\n",
       "      <td>0</td>\n",
       "      <td>16</td>\n",
       "      <td>Atrophy-0001apo</td>\n",
       "    </tr>\n",
       "  </tbody>\n",
       "</table>\n",
       "<p>3 rows × 28 columns</p>\n",
       "</div>"
      ],
      "text/plain": [
       "   index Sex Age Narrow pitch range Decreased volume Fatigue Dryness Lumping  \\\n",
       "0      0   1  97                  0                0       0       0       0   \n",
       "1      1   1  86                  0                0       0       0       0   \n",
       "2      2   2  45                  0                0       0       1       0   \n",
       "\n",
       "  Heartburn Choking  ... Noise at work Occupational vocal demand Diabetes  \\\n",
       "0         0       1  ...             1                         2        0   \n",
       "1         0       1  ...             1                         4        0   \n",
       "2         0       0  ...             1                         3        0   \n",
       "\n",
       "   Hypertension CAD  Head and Neck Cancer Head injury CVA  \\\n",
       "0             0   0                     0           0   0   \n",
       "1             1   0                     0           0   1   \n",
       "2             0   0                     0           0   0   \n",
       "\n",
       "  Voice handicap index - 10         filename  \n",
       "0                        12  Atrophy-00002mg  \n",
       "1                        36  Atrophy-0001297  \n",
       "2                        16  Atrophy-0001apo  \n",
       "\n",
       "[3 rows x 28 columns]"
      ]
     },
     "execution_count": 17,
     "metadata": {},
     "output_type": "execute_result"
    }
   ],
   "source": [
    "test_files = demographics.loc[0:2]\n",
    "test_files"
   ]
  },
  {
   "cell_type": "code",
   "execution_count": 18,
   "id": "c7e904c5-f144-4367-8b93-14514a77549e",
   "metadata": {},
   "outputs": [
    {
     "data": {
      "text/html": [
       "<div>\n",
       "<style scoped>\n",
       "    .dataframe tbody tr th:only-of-type {\n",
       "        vertical-align: middle;\n",
       "    }\n",
       "\n",
       "    .dataframe tbody tr th {\n",
       "        vertical-align: top;\n",
       "    }\n",
       "\n",
       "    .dataframe thead th {\n",
       "        text-align: right;\n",
       "    }\n",
       "</style>\n",
       "<table border=\"1\" class=\"dataframe\">\n",
       "  <thead>\n",
       "    <tr style=\"text-align: right;\">\n",
       "      <th></th>\n",
       "      <th>F0semitoneFrom27.5Hz_sma3nz_amean</th>\n",
       "      <th>F0semitoneFrom27.5Hz_sma3nz_stddevNorm</th>\n",
       "      <th>F0semitoneFrom27.5Hz_sma3nz_percentile20.0</th>\n",
       "      <th>F0semitoneFrom27.5Hz_sma3nz_percentile50.0</th>\n",
       "      <th>F0semitoneFrom27.5Hz_sma3nz_percentile80.0</th>\n",
       "      <th>F0semitoneFrom27.5Hz_sma3nz_pctlrange0-2</th>\n",
       "      <th>F0semitoneFrom27.5Hz_sma3nz_meanRisingSlope</th>\n",
       "      <th>F0semitoneFrom27.5Hz_sma3nz_stddevRisingSlope</th>\n",
       "      <th>F0semitoneFrom27.5Hz_sma3nz_meanFallingSlope</th>\n",
       "      <th>F0semitoneFrom27.5Hz_sma3nz_stddevFallingSlope</th>\n",
       "      <th>...</th>\n",
       "      <th>slopeUV0-500_sma3nz_amean</th>\n",
       "      <th>slopeUV500-1500_sma3nz_amean</th>\n",
       "      <th>spectralFluxUV_sma3nz_amean</th>\n",
       "      <th>loudnessPeaksPerSec</th>\n",
       "      <th>VoicedSegmentsPerSec</th>\n",
       "      <th>MeanVoicedSegmentLengthSec</th>\n",
       "      <th>StddevVoicedSegmentLengthSec</th>\n",
       "      <th>MeanUnvoicedSegmentLength</th>\n",
       "      <th>StddevUnvoicedSegmentLength</th>\n",
       "      <th>equivalentSoundLevel_dBp</th>\n",
       "    </tr>\n",
       "  </thead>\n",
       "  <tbody>\n",
       "    <tr>\n",
       "      <th>0</th>\n",
       "      <td>34.883045</td>\n",
       "      <td>0.017140</td>\n",
       "      <td>34.455215</td>\n",
       "      <td>34.960484</td>\n",
       "      <td>35.348808</td>\n",
       "      <td>0.893593</td>\n",
       "      <td>12.763138</td>\n",
       "      <td>4.539836</td>\n",
       "      <td>9.080422</td>\n",
       "      <td>7.009194</td>\n",
       "      <td>...</td>\n",
       "      <td>0.00000</td>\n",
       "      <td>0.000000</td>\n",
       "      <td>0.000000</td>\n",
       "      <td>2.512563</td>\n",
       "      <td>0.518135</td>\n",
       "      <td>1.92</td>\n",
       "      <td>0.00000</td>\n",
       "      <td>0.000000</td>\n",
       "      <td>0.000000</td>\n",
       "      <td>-17.993633</td>\n",
       "    </tr>\n",
       "    <tr>\n",
       "      <th>1</th>\n",
       "      <td>29.470533</td>\n",
       "      <td>0.265424</td>\n",
       "      <td>23.582479</td>\n",
       "      <td>31.078848</td>\n",
       "      <td>36.680908</td>\n",
       "      <td>13.098429</td>\n",
       "      <td>22.764477</td>\n",
       "      <td>82.978889</td>\n",
       "      <td>60.700874</td>\n",
       "      <td>12.533890</td>\n",
       "      <td>...</td>\n",
       "      <td>-0.04017</td>\n",
       "      <td>-0.004364</td>\n",
       "      <td>0.569495</td>\n",
       "      <td>3.030303</td>\n",
       "      <td>3.260870</td>\n",
       "      <td>0.16</td>\n",
       "      <td>0.07874</td>\n",
       "      <td>0.123333</td>\n",
       "      <td>0.090308</td>\n",
       "      <td>-16.225655</td>\n",
       "    </tr>\n",
       "    <tr>\n",
       "      <th>2</th>\n",
       "      <td>37.683495</td>\n",
       "      <td>0.003717</td>\n",
       "      <td>37.581398</td>\n",
       "      <td>37.688583</td>\n",
       "      <td>37.774849</td>\n",
       "      <td>0.193451</td>\n",
       "      <td>2.640856</td>\n",
       "      <td>1.785011</td>\n",
       "      <td>0.939009</td>\n",
       "      <td>0.305288</td>\n",
       "      <td>...</td>\n",
       "      <td>0.00000</td>\n",
       "      <td>0.000000</td>\n",
       "      <td>0.000000</td>\n",
       "      <td>3.010033</td>\n",
       "      <td>0.341297</td>\n",
       "      <td>2.92</td>\n",
       "      <td>0.00000</td>\n",
       "      <td>0.000000</td>\n",
       "      <td>0.000000</td>\n",
       "      <td>-28.936941</td>\n",
       "    </tr>\n",
       "  </tbody>\n",
       "</table>\n",
       "<p>3 rows × 88 columns</p>\n",
       "</div>"
      ],
      "text/plain": [
       "   F0semitoneFrom27.5Hz_sma3nz_amean  F0semitoneFrom27.5Hz_sma3nz_stddevNorm  \\\n",
       "0                          34.883045                                0.017140   \n",
       "1                          29.470533                                0.265424   \n",
       "2                          37.683495                                0.003717   \n",
       "\n",
       "   F0semitoneFrom27.5Hz_sma3nz_percentile20.0  \\\n",
       "0                                   34.455215   \n",
       "1                                   23.582479   \n",
       "2                                   37.581398   \n",
       "\n",
       "   F0semitoneFrom27.5Hz_sma3nz_percentile50.0  \\\n",
       "0                                   34.960484   \n",
       "1                                   31.078848   \n",
       "2                                   37.688583   \n",
       "\n",
       "   F0semitoneFrom27.5Hz_sma3nz_percentile80.0  \\\n",
       "0                                   35.348808   \n",
       "1                                   36.680908   \n",
       "2                                   37.774849   \n",
       "\n",
       "   F0semitoneFrom27.5Hz_sma3nz_pctlrange0-2  \\\n",
       "0                                  0.893593   \n",
       "1                                 13.098429   \n",
       "2                                  0.193451   \n",
       "\n",
       "   F0semitoneFrom27.5Hz_sma3nz_meanRisingSlope  \\\n",
       "0                                    12.763138   \n",
       "1                                    22.764477   \n",
       "2                                     2.640856   \n",
       "\n",
       "   F0semitoneFrom27.5Hz_sma3nz_stddevRisingSlope  \\\n",
       "0                                       4.539836   \n",
       "1                                      82.978889   \n",
       "2                                       1.785011   \n",
       "\n",
       "   F0semitoneFrom27.5Hz_sma3nz_meanFallingSlope  \\\n",
       "0                                      9.080422   \n",
       "1                                     60.700874   \n",
       "2                                      0.939009   \n",
       "\n",
       "   F0semitoneFrom27.5Hz_sma3nz_stddevFallingSlope  ...  \\\n",
       "0                                        7.009194  ...   \n",
       "1                                       12.533890  ...   \n",
       "2                                        0.305288  ...   \n",
       "\n",
       "   slopeUV0-500_sma3nz_amean  slopeUV500-1500_sma3nz_amean  \\\n",
       "0                    0.00000                      0.000000   \n",
       "1                   -0.04017                     -0.004364   \n",
       "2                    0.00000                      0.000000   \n",
       "\n",
       "   spectralFluxUV_sma3nz_amean  loudnessPeaksPerSec  VoicedSegmentsPerSec  \\\n",
       "0                     0.000000             2.512563              0.518135   \n",
       "1                     0.569495             3.030303              3.260870   \n",
       "2                     0.000000             3.010033              0.341297   \n",
       "\n",
       "   MeanVoicedSegmentLengthSec  StddevVoicedSegmentLengthSec  \\\n",
       "0                        1.92                       0.00000   \n",
       "1                        0.16                       0.07874   \n",
       "2                        2.92                       0.00000   \n",
       "\n",
       "   MeanUnvoicedSegmentLength  StddevUnvoicedSegmentLength  \\\n",
       "0                   0.000000                     0.000000   \n",
       "1                   0.123333                     0.090308   \n",
       "2                   0.000000                     0.000000   \n",
       "\n",
       "   equivalentSoundLevel_dBp  \n",
       "0                -17.993633  \n",
       "1                -16.225655  \n",
       "2                -28.936941  \n",
       "\n",
       "[3 rows x 88 columns]"
      ]
     },
     "execution_count": 18,
     "metadata": {},
     "output_type": "execute_result"
    }
   ],
   "source": [
    "combined_feature_extractor.transform(test_files)"
   ]
  },
  {
   "cell_type": "code",
   "execution_count": 19,
   "id": "ac5ab8ed-c578-4782-a509-a73712956c76",
   "metadata": {},
   "outputs": [
    {
     "data": {
      "text/plain": [
       "array(['Benign', 'Benign', 'Benign'], dtype=object)"
      ]
     },
     "execution_count": 19,
     "metadata": {},
     "output_type": "execute_result"
    }
   ],
   "source": [
    "y_pred = new_pipeline.predict(test_files)\n",
    "y_pred"
   ]
  },
  {
   "cell_type": "code",
   "execution_count": 20,
   "id": "445f13d7-3c10-462e-b2e2-802f4a212398",
   "metadata": {},
   "outputs": [],
   "source": [
    "feature = 'OpenSmile'\n",
    "models = ['SVM', 'LR', 'NN']\n",
    "inputs = ['Rec_Only', 'Age_Sex', 'Age_Sex_Symptoms', 'Symptoms']"
   ]
  },
  {
   "cell_type": "code",
   "execution_count": 23,
   "id": "88466367-90ca-4121-8f4b-d1f5177accbd",
   "metadata": {},
   "outputs": [
    {
     "name": "stdout",
     "output_type": "stream",
     "text": [
      "SVM_OpenSmile_Rec_Only.pkl\n",
      "SVM_OpenSmile_Age_Sex.pkl\n",
      "SVM_OpenSmile_Age_Sex_Symptoms.pkl\n",
      "SVM_OpenSmile_Symptoms.pkl\n",
      "LR_OpenSmile_Rec_Only.pkl\n",
      "LR_OpenSmile_Age_Sex.pkl\n",
      "LR_OpenSmile_Age_Sex_Symptoms.pkl\n",
      "LR_OpenSmile_Symptoms.pkl\n",
      "NN_OpenSmile_Rec_Only.pkl\n",
      "NN_OpenSmile_Age_Sex.pkl\n",
      "NN_OpenSmile_Age_Sex_Symptoms.pkl\n",
      "NN_OpenSmile_Symptoms.pkl\n"
     ]
    }
   ],
   "source": [
    "prediction_times = {}\n",
    "for model in models:\n",
    "    for input_val in inputs:\n",
    "        classifier_name = f'{model}_{feature}_{input_val}.pkl'\n",
    "        prediction_times[classifier_name] = []\n",
    "        print(classifier_name)\n",
    "        trained_pipeline = joblib.load(f'{parent_dir}/Models/{classifier_name}')\n",
    "        input_features = trained_pipeline.feature_names_in_\n",
    "\n",
    "        # Define the combined feature extractor with specified columns\n",
    "        combined_feature_extractor = CombinedFeatureExtractor(\n",
    "            audio_dir=audio_dir,\n",
    "            audio_column='filename',\n",
    "            include_columns=input_features\n",
    "        )\n",
    "\n",
    "        # Define the pipeline\n",
    "        new_pipeline = Pipeline([\n",
    "            ('features', combined_feature_extractor),\n",
    "            ('existing', trained_pipeline)  # This is your classifier pipeline\n",
    "        ])\n",
    "        \n",
    "        for i in range(len(demographics)):\n",
    "            start = time.time()\n",
    "            y_pred = new_pipeline.predict(demographics.loc[i:i])\n",
    "            end = time.time()\n",
    "            prediction_times[classifier_name].append(end - start)"
   ]
  },
  {
   "cell_type": "code",
   "execution_count": 24,
   "id": "ab00ce49-3e95-4146-8ec0-05df2f1375aa",
   "metadata": {},
   "outputs": [
    {
     "data": {
      "text/plain": [
       "['OpenSmilePredictionTimes.pkl']"
      ]
     },
     "execution_count": 24,
     "metadata": {},
     "output_type": "execute_result"
    }
   ],
   "source": [
    "joblib.dump(prediction_times, 'OpenSmilePredictionTimes.pkl')"
   ]
  },
  {
   "cell_type": "code",
   "execution_count": 25,
   "id": "d6edf6ad-9c2e-4f5f-8c3e-6e0f25ea5e82",
   "metadata": {},
   "outputs": [
    {
     "data": {
      "image/png": "[encoded data removed]",
      "text/plain": [
       "<Figure size 640x480 with 1 Axes>"
      ]
     },
     "metadata": {},
     "output_type": "display_data"
    }
   ],
   "source": [
    "plt.boxplot(prediction_times.values(), showfliers=False)\n",
    "plt.show()"
   ]
  },
  {
   "cell_type": "code",
   "execution_count": 26,
   "id": "e5faf5ac-8256-4364-add3-64379e17b4c1",
   "metadata": {},
   "outputs": [
    {
     "data": {
      "image/png": "[encoded data removed]",
      "text/plain": [
       "<Figure size 640x480 with 1 Axes>"
      ]
     },
     "metadata": {},
     "output_type": "display_data"
    }
   ],
   "source": [
    "plt.boxplot(prediction_times.values(), showfliers=True)\n",
    "plt.show()"
   ]
  },
  {
   "cell_type": "code",
   "execution_count": null,
   "id": "581d009f-06ec-41ec-a0d7-df695d9ef141",
   "metadata": {},
   "outputs": [],
   "source": []
  }
 ],
 "metadata": {
  "kernelspec": {
   "display_name": "Python 3 (ipykernel)",
   "language": "python",
   "name": "python3"
  },
  "language_info": {
   "codemirror_mode": {
    "name": "ipython",
    "version": 3
   },
   "file_extension": ".py",
   "mimetype": "text/x-python",
   "name": "python",
   "nbconvert_exporter": "python",
   "pygments_lexer": "ipython3",
   "version": "3.12.2"
  }
 },
 "nbformat": 4,
 "nbformat_minor": 5
}
