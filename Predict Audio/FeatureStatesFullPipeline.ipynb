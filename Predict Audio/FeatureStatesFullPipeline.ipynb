{
 "cells": [
  {
   "cell_type": "code",
   "execution_count": 1,
   "id": "63dab038-79f6-482e-9eba-12480de26b37",
   "metadata": {},
   "outputs": [],
   "source": [
    "import pandas as pd\n",
    "import numpy as np\n",
    "from sklearn.model_selection import GridSearchCV\n",
    "from sklearn.svm import SVC\n",
    "from sklearn.tree import DecisionTreeClassifier\n",
    "from sklearn.metrics import balanced_accuracy_score, confusion_matrix, ConfusionMatrixDisplay\n",
    "from sklearn.pipeline import Pipeline\n",
    "from sklearn.preprocessing import StandardScaler\n",
    "from sklearn.feature_selection import SelectFromModel\n",
    "from sklearn.model_selection import train_test_split\n",
    "from sklearn.impute import SimpleImputer\n",
    "from sklearn.utils.class_weight import compute_class_weight\n",
    "from sklearn.compose import ColumnTransformer\n",
    "\n",
    "import joblib\n",
    "\n",
    "import matplotlib.pyplot as plt\n",
    "import seaborn as sns\n",
    "import os\n",
    "import torch\n",
    "from transformers import Wav2Vec2FeatureExtractor, Wav2Vec2Model\n",
    "import librosa"
   ]
  },
  {
   "cell_type": "code",
   "execution_count": 2,
   "id": "b2d0221d-2040-4886-ad3a-c47b701b830d",
   "metadata": {},
   "outputs": [],
   "source": [
    "cwd = os.getcwd()"
   ]
  },
  {
   "cell_type": "code",
   "execution_count": 3,
   "id": "5570ec29-5e11-4b47-a00c-8c8e7465050b",
   "metadata": {},
   "outputs": [],
   "source": [
    "parent_dir = os.path.dirname(cwd)"
   ]
  },
  {
   "cell_type": "code",
   "execution_count": 4,
   "id": "b19d217b-758f-4701-94ba-656207096cad",
   "metadata": {},
   "outputs": [],
   "source": [
    "trained_pipeline = joblib.load(f'{parent_dir}/FeatureSelection/SVM_FeatureStates_Rec_Only.pkl')"
   ]
  },
  {
   "cell_type": "code",
   "execution_count": 5,
   "id": "75d7634b-e437-4dcd-878e-58297d00063c",
   "metadata": {},
   "outputs": [],
   "source": [
    "from sklearn.base import BaseEstimator, TransformerMixin"
   ]
  },
  {
   "cell_type": "code",
   "execution_count": 6,
   "id": "0a6c9740-60cf-4e88-bfb5-dceedffdfb39",
   "metadata": {},
   "outputs": [],
   "source": [
    "class Wav2Vec2BatchFeatureExtractor(BaseEstimator, TransformerMixin):\n",
    "    def __init__(self, model_name=\"facebook/wav2vec2-large-xlsr-53\", batch_size=32):\n",
    "        self.model_name = model_name\n",
    "        self.batch_size = batch_size\n",
    "        self.feature_extractor = Wav2Vec2FeatureExtractor.from_pretrained(self.model_name)\n",
    "        self.model = Wav2Vec2Model.from_pretrained(self.model_name)\n",
    "        self.device = torch.device(\"cuda\" if torch.cuda.is_available() else \"cpu\")\n",
    "        self.model.to(self.device)\n",
    "\n",
    "    def fit(self, X, y=None):\n",
    "        return self\n",
    "    \n",
    "    def transform(self, X):\n",
    "        # Extract file paths from the specified DataFrame column\n",
    "        file_paths = X\n",
    "\n",
    "        num_samples = len(file_paths)\n",
    "        feature_states = torch.empty(size=(num_samples, 512), device=self.device)\n",
    "\n",
    "        # Process files in batches\n",
    "        for i in range(0, num_samples, self.batch_size):\n",
    "            batch_paths = file_paths[i:i + self.batch_size]\n",
    "\n",
    "            # Load audio files\n",
    "            batch_signals = []\n",
    "            for file_path in batch_paths:\n",
    "                signal, _ = librosa.load(file_path, sr=16000)\n",
    "                batch_signals.append(signal)\n",
    "\n",
    "            # Process signals with wav2vec2\n",
    "            inputs = self.feature_extractor(batch_signals, return_tensors=\"pt\", sampling_rate=16000, padding=True)\n",
    "            input_values = inputs.input_values.to(self.device)\n",
    "\n",
    "            with torch.no_grad():\n",
    "                outputs = self.model(input_values=input_values)\n",
    "\n",
    "            sig_feature_state = torch.mean(outputs.extract_features, axis=1)\n",
    "\n",
    "            feature_states[i:i + self.batch_size] = sig_feature_state\n",
    "\n",
    "        # Convert to a DataFrame with column names corresponding to the features\n",
    "        columns = list(map(str, list(range(512))))\n",
    "        feature_df = pd.DataFrame(feature_states, dtype=np.float64, columns=columns)\n",
    "\n",
    "        return feature_df"
   ]
  },
  {
   "cell_type": "code",
   "execution_count": 7,
   "id": "5adcea10-0da9-459c-879f-c36601e83044",
   "metadata": {},
   "outputs": [
    {
     "name": "stderr",
     "output_type": "stream",
     "text": [
      "Some weights of Wav2Vec2Model were not initialized from the model checkpoint at facebook/wav2vec2-large-xlsr-53 and are newly initialized: ['wav2vec2.encoder.pos_conv_embed.conv.parametrizations.weight.original0', 'wav2vec2.encoder.pos_conv_embed.conv.parametrizations.weight.original1']\n",
      "You should probably TRAIN this model on a down-stream task to be able to use it for predictions and inference.\n"
     ]
    }
   ],
   "source": [
    "new_pipeline = Pipeline([\n",
    "    ('features', Wav2Vec2BatchFeatureExtractor()),\n",
    "    ('existing', trained_pipeline)  \n",
    "])"
   ]
  },
  {
   "cell_type": "code",
   "execution_count": 11,
   "id": "5e0d08b3-80d3-4611-a799-58991755470a",
   "metadata": {},
   "outputs": [],
   "source": [
    "audio_dir = f'{parent_dir}/Audio/'\n",
    "test_audio = [f'{audio_dir}/Atrophy-0A00e04.wav', f'{audio_dir}/Laryngeal cancer-0702gr9.wav']\n",
    "# test_audio = [f'{audio_dir}/Atrophy-0A00e04.wav']"
   ]
  },
  {
   "cell_type": "code",
   "execution_count": 12,
   "id": "77700efe-8534-44b8-a853-1e06ebd29f19",
   "metadata": {},
   "outputs": [],
   "source": [
    "y_pred = new_pipeline.predict(test_audio)"
   ]
  },
  {
   "cell_type": "code",
   "execution_count": 13,
   "id": "c75009d1-9401-4216-b7b8-1884cfb3c44d",
   "metadata": {},
   "outputs": [
    {
     "data": {
      "text/plain": [
       "array(['Benign'], dtype=object)"
      ]
     },
     "execution_count": 13,
     "metadata": {},
     "output_type": "execute_result"
    }
   ],
   "source": [
    "y_pred"
   ]
  },
  {
   "cell_type": "code",
   "execution_count": null,
   "id": "39d6ebbe-37c4-4142-b039-c2b4955cceee",
   "metadata": {},
   "outputs": [],
   "source": []
  }
 ],
 "metadata": {
  "kernelspec": {
   "display_name": "Python 3 (ipykernel)",
   "language": "python",
   "name": "python3"
  },
  "language_info": {
   "codemirror_mode": {
    "name": "ipython",
    "version": 3
   },
   "file_extension": ".py",
   "mimetype": "text/x-python",
   "name": "python",
   "nbconvert_exporter": "python",
   "pygments_lexer": "ipython3",
   "version": "3.12.2"
  }
 },
 "nbformat": 4,
 "nbformat_minor": 5
}
