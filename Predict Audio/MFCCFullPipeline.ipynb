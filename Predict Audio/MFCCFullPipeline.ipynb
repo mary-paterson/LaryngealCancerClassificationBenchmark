{
 "cells": [
  {
   "cell_type": "code",
   "execution_count": 13,
   "id": "63dab038-79f6-482e-9eba-12480de26b37",
   "metadata": {},
   "outputs": [],
   "source": [
    "import pandas as pd\n",
    "import numpy as np\n",
    "from sklearn.model_selection import GridSearchCV\n",
    "from sklearn.svm import SVC\n",
    "from sklearn.tree import DecisionTreeClassifier\n",
    "from sklearn.metrics import balanced_accuracy_score, confusion_matrix, ConfusionMatrixDisplay\n",
    "from sklearn.pipeline import Pipeline\n",
    "from sklearn.preprocessing import StandardScaler\n",
    "from sklearn.feature_selection import SelectFromModel\n",
    "from sklearn.model_selection import train_test_split\n",
    "from sklearn.impute import SimpleImputer\n",
    "from sklearn.utils.class_weight import compute_class_weight\n",
    "from sklearn.compose import ColumnTransformer\n",
    "\n",
    "import joblib\n",
    "\n",
    "import matplotlib.pyplot as plt\n",
    "import seaborn as sns\n",
    "import os\n",
    "import librosa"
   ]
  },
  {
   "cell_type": "code",
   "execution_count": 2,
   "id": "b2d0221d-2040-4886-ad3a-c47b701b830d",
   "metadata": {},
   "outputs": [],
   "source": [
    "cwd = os.getcwd()"
   ]
  },
  {
   "cell_type": "code",
   "execution_count": 3,
   "id": "5570ec29-5e11-4b47-a00c-8c8e7465050b",
   "metadata": {},
   "outputs": [],
   "source": [
    "parent_dir = os.path.dirname(cwd)"
   ]
  },
  {
   "cell_type": "code",
   "execution_count": 5,
   "id": "b19d217b-758f-4701-94ba-656207096cad",
   "metadata": {},
   "outputs": [],
   "source": [
    "trained_pipeline = joblib.load(f'{parent_dir}/FeatureSelection/SVM_MFCC_Rec_Only.pkl')"
   ]
  },
  {
   "cell_type": "code",
   "execution_count": 8,
   "id": "75d7634b-e437-4dcd-878e-58297d00063c",
   "metadata": {},
   "outputs": [],
   "source": [
    "from sklearn.base import BaseEstimator, TransformerMixin"
   ]
  },
  {
   "cell_type": "code",
   "execution_count": 21,
   "id": "0a6c9740-60cf-4e88-bfb5-dceedffdfb39",
   "metadata": {},
   "outputs": [],
   "source": [
    "class FeatureExtractor(BaseEstimator, TransformerMixin):\n",
    "    \n",
    "    def fit(self, X, y=None):\n",
    "        return self\n",
    "    \n",
    "    def transform(self, file_paths):\n",
    "        features_df = pd.DataFrame(columns=['mfcc'])\n",
    "        for file in file_paths:\n",
    "            y, sr = librosa.load(file, sr=16000)\n",
    "            mfcc = librosa.feature.mfcc(y=y, sr=sr)\n",
    "            features_df.loc[len(features_df)] = [mfcc]\n",
    "        \n",
    "        return features_df"
   ]
  },
  {
   "cell_type": "code",
   "execution_count": 22,
   "id": "5adcea10-0da9-459c-879f-c36601e83044",
   "metadata": {},
   "outputs": [],
   "source": [
    "new_pipeline = Pipeline([\n",
    "    ('features', FeatureExtractor()),  # Step 1: Extract features\n",
    "    ('existing', trained_pipeline)     # Step 2: Use the already trained pipeline\n",
    "])"
   ]
  },
  {
   "cell_type": "code",
   "execution_count": 27,
   "id": "5e0d08b3-80d3-4611-a799-58991755470a",
   "metadata": {},
   "outputs": [],
   "source": [
    "audio_dir = f'{parent_dir}/Audio/'\n",
    "test_audio = [f'{audio_dir}/Atrophy-0A00e04.wav', f'{audio_dir}/Laryngeal cancer-0702gr9.wav']\n",
    "# test_audio = [f'{audio_dir}/Atrophy-0A00e04.wav']"
   ]
  },
  {
   "cell_type": "code",
   "execution_count": 31,
   "id": "77700efe-8534-44b8-a853-1e06ebd29f19",
   "metadata": {},
   "outputs": [],
   "source": [
    "y_pred = new_pipeline.predict(test_audio)"
   ]
  },
  {
   "cell_type": "code",
   "execution_count": 32,
   "id": "0ac620c2-03af-4dfa-af94-f07de0dfaf53",
   "metadata": {},
   "outputs": [
    {
     "data": {
      "text/plain": [
       "array(['Benign', 'Malignant'], dtype=object)"
      ]
     },
     "execution_count": 32,
     "metadata": {},
     "output_type": "execute_result"
    }
   ],
   "source": [
    "y_pred"
   ]
  },
  {
   "cell_type": "code",
   "execution_count": null,
   "id": "e41d357b-adbc-4142-9732-3d68b0ff0869",
   "metadata": {},
   "outputs": [],
   "source": []
  }
 ],
 "metadata": {
  "kernelspec": {
   "display_name": "Python 3 (ipykernel)",
   "language": "python",
   "name": "python3"
  },
  "language_info": {
   "codemirror_mode": {
    "name": "ipython",
    "version": 3
   },
   "file_extension": ".py",
   "mimetype": "text/x-python",
   "name": "python",
   "nbconvert_exporter": "python",
   "pygments_lexer": "ipython3",
   "version": "3.12.2"
  }
 },
 "nbformat": 4,
 "nbformat_minor": 5
}
