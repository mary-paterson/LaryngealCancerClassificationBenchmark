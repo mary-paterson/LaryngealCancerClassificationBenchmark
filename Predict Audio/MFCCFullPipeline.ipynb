{
 "cells": [
  {
   "cell_type": "code",
   "execution_count": 25,
   "id": "63dab038-79f6-482e-9eba-12480de26b37",
   "metadata": {},
   "outputs": [],
   "source": [
    "import pandas as pd\n",
    "import numpy as np\n",
    "from sklearn.model_selection import GridSearchCV\n",
    "from sklearn.svm import SVC\n",
    "from sklearn.tree import DecisionTreeClassifier\n",
    "from sklearn.metrics import balanced_accuracy_score, confusion_matrix, ConfusionMatrixDisplay\n",
    "from sklearn.pipeline import Pipeline\n",
    "from sklearn.preprocessing import StandardScaler\n",
    "from sklearn.feature_selection import SelectFromModel\n",
    "from sklearn.model_selection import train_test_split\n",
    "from sklearn.impute import SimpleImputer\n",
    "from sklearn.utils.class_weight import compute_class_weight\n",
    "from sklearn.compose import ColumnTransformer\n",
    "\n",
    "import joblib\n",
    "\n",
    "import matplotlib.pyplot as plt\n",
    "import seaborn as sns\n",
    "import os\n",
    "import librosa\n",
    "import time"
   ]
  },
  {
   "cell_type": "code",
   "execution_count": 2,
   "id": "b2d0221d-2040-4886-ad3a-c47b701b830d",
   "metadata": {},
   "outputs": [],
   "source": [
    "cwd = os.getcwd()"
   ]
  },
  {
   "cell_type": "code",
   "execution_count": 5,
   "id": "5570ec29-5e11-4b47-a00c-8c8e7465050b",
   "metadata": {},
   "outputs": [],
   "source": [
    "parent_dir = os.path.dirname(cwd)\n",
    "grandparent_dir = os.path.dirname(parent_dir)\n",
    "grandparent_dir = os.path.dirname(grandparent_dir)"
   ]
  },
  {
   "cell_type": "code",
   "execution_count": 7,
   "id": "b19d217b-758f-4701-94ba-656207096cad",
   "metadata": {},
   "outputs": [],
   "source": [
    "trained_pipeline = joblib.load(f'{parent_dir}/Models/SVM_MFCC_Rec_Only.pkl')"
   ]
  },
  {
   "cell_type": "code",
   "execution_count": 8,
   "id": "75d7634b-e437-4dcd-878e-58297d00063c",
   "metadata": {},
   "outputs": [],
   "source": [
    "from sklearn.base import BaseEstimator, TransformerMixin"
   ]
  },
  {
   "cell_type": "code",
   "execution_count": 10,
   "id": "70ccb2ed-ce2c-4778-8fdc-b642231d6fbf",
   "metadata": {},
   "outputs": [],
   "source": [
    "def get_audio_file_paths(audio_dir, file_extension=\".wav\"):\n",
    "    # List all files in the directory with the given extension\n",
    "    file_paths = glob.glob(os.path.join(audio_dir, f'*{file_extension}'))\n",
    "    return file_paths"
   ]
  },
  {
   "cell_type": "code",
   "execution_count": 9,
   "id": "0a6c9740-60cf-4e88-bfb5-dceedffdfb39",
   "metadata": {},
   "outputs": [],
   "source": [
    "class FeatureExtractor(BaseEstimator, TransformerMixin):\n",
    "    \n",
    "    def fit(self, X, y=None):\n",
    "        return self\n",
    "    \n",
    "    def transform(self, file_paths):\n",
    "        features_df = pd.DataFrame(columns=['mfcc'])\n",
    "        for file in file_paths:\n",
    "            y, sr = librosa.load(file, sr=16000)\n",
    "            mfcc = librosa.feature.mfcc(y=y, sr=sr)\n",
    "            features_df.loc[len(features_df)] = [mfcc]\n",
    "        \n",
    "        return features_df"
   ]
  },
  {
   "cell_type": "code",
   "execution_count": 13,
   "id": "d492d2ba-2ef5-406c-8202-6941f00175f2",
   "metadata": {},
   "outputs": [],
   "source": [
    "class CombinedFeatureExtractor(BaseEstimator, TransformerMixin):\n",
    "    def __init__(self, audio_column='filename', include_columns=None, audio_dir=''):\n",
    "        self.audio_column = audio_column\n",
    "        self.include_columns = include_columns  # Columns to include from the DataFrame\n",
    "        self.audio_dir = audio_dir\n",
    "\n",
    "    def fit(self, X, y=None):\n",
    "        return self\n",
    "\n",
    "    def transform(self, X):\n",
    "        \n",
    "\n",
    "        # Extract filenames from the DataFrame\n",
    "        file_paths = X[self.audio_column].tolist()\n",
    "        file_paths = [f'{audio_dir}\\\\{file}.wav' for file in file_paths]\n",
    "        \n",
    "        num_samples = len(file_paths)\n",
    "\n",
    "        \n",
    "              \n",
    "        included_features = X.loc[:, X.columns.isin(self.include_columns)]\n",
    "\n",
    "        \n",
    "        \n",
    "        # Extract audio features\n",
    "        audio_feature_extractor = FeatureExtractor()\n",
    "        audio_features = audio_feature_extractor.transform(file_paths)\n",
    "\n",
    "        \n",
    "        \n",
    "        # Combine audio features with the included demographic and symptom features\n",
    "        combined_features = pd.concat([audio_features, included_features.reset_index(drop=True)], axis=1)\n",
    "\n",
    "        \n",
    "        \n",
    "        return combined_features\n"
   ]
  },
  {
   "cell_type": "code",
   "execution_count": 14,
   "id": "bfa4432a-8236-4a76-aabd-59e97a0d7535",
   "metadata": {},
   "outputs": [],
   "source": [
    "audio_dir = f'{grandparent_dir}\\\\Audio\\\\'"
   ]
  },
  {
   "cell_type": "code",
   "execution_count": 16,
   "id": "04af8eb4-ce17-4d30-95c0-3a6c0280d4e1",
   "metadata": {},
   "outputs": [],
   "source": [
    "input_features = trained_pipeline.feature_names_in_"
   ]
  },
  {
   "cell_type": "code",
   "execution_count": 17,
   "id": "969d5dc7-fd50-4c2a-b9cc-a3e56d56ac93",
   "metadata": {},
   "outputs": [],
   "source": [
    "# Define the combined feature extractor with specified columns\n",
    "combined_feature_extractor = CombinedFeatureExtractor(\n",
    "    audio_dir=audio_dir,\n",
    "    audio_column='filename',\n",
    "    include_columns=input_features\n",
    ")"
   ]
  },
  {
   "cell_type": "code",
   "execution_count": 18,
   "id": "45d91631-6fb2-46bf-9fbe-fada34fa451d",
   "metadata": {},
   "outputs": [],
   "source": [
    "# Define the pipeline\n",
    "new_pipeline = Pipeline([\n",
    "    ('features', combined_feature_extractor),\n",
    "    ('existing', trained_pipeline)  # This is your classifier pipeline\n",
    "])"
   ]
  },
  {
   "cell_type": "code",
   "execution_count": 19,
   "id": "167e5fee-6f2b-4d5e-8e2d-5709a803c4ff",
   "metadata": {},
   "outputs": [],
   "source": [
    "demographics = pd.read_pickle(f'{grandparent_dir}/Audio/medicalhistory.pkl')\n",
    "demographics = demographics.drop(['ID', 'Disease category', 'pathology'], axis=1)\n",
    "demographics = demographics.reset_index()"
   ]
  },
  {
   "cell_type": "code",
   "execution_count": 20,
   "id": "1d970c78-c7aa-4b74-b39f-a5fda3274a34",
   "metadata": {},
   "outputs": [
    {
     "data": {
      "text/html": [
       "<div>\n",
       "<style scoped>\n",
       "    .dataframe tbody tr th:only-of-type {\n",
       "        vertical-align: middle;\n",
       "    }\n",
       "\n",
       "    .dataframe tbody tr th {\n",
       "        vertical-align: top;\n",
       "    }\n",
       "\n",
       "    .dataframe thead th {\n",
       "        text-align: right;\n",
       "    }\n",
       "</style>\n",
       "<table border=\"1\" class=\"dataframe\">\n",
       "  <thead>\n",
       "    <tr style=\"text-align: right;\">\n",
       "      <th></th>\n",
       "      <th>index</th>\n",
       "      <th>Sex</th>\n",
       "      <th>Age</th>\n",
       "      <th>Narrow pitch range</th>\n",
       "      <th>Decreased volume</th>\n",
       "      <th>Fatigue</th>\n",
       "      <th>Dryness</th>\n",
       "      <th>Lumping</th>\n",
       "      <th>Heartburn</th>\n",
       "      <th>Choking</th>\n",
       "      <th>...</th>\n",
       "      <th>Noise at work</th>\n",
       "      <th>Occupational vocal demand</th>\n",
       "      <th>Diabetes</th>\n",
       "      <th>Hypertension</th>\n",
       "      <th>CAD</th>\n",
       "      <th>Head and Neck Cancer</th>\n",
       "      <th>Head injury</th>\n",
       "      <th>CVA</th>\n",
       "      <th>Voice handicap index - 10</th>\n",
       "      <th>filename</th>\n",
       "    </tr>\n",
       "  </thead>\n",
       "  <tbody>\n",
       "    <tr>\n",
       "      <th>0</th>\n",
       "      <td>0</td>\n",
       "      <td>1</td>\n",
       "      <td>97</td>\n",
       "      <td>0</td>\n",
       "      <td>0</td>\n",
       "      <td>0</td>\n",
       "      <td>0</td>\n",
       "      <td>0</td>\n",
       "      <td>0</td>\n",
       "      <td>1</td>\n",
       "      <td>...</td>\n",
       "      <td>1</td>\n",
       "      <td>2</td>\n",
       "      <td>0</td>\n",
       "      <td>0</td>\n",
       "      <td>0</td>\n",
       "      <td>0</td>\n",
       "      <td>0</td>\n",
       "      <td>0</td>\n",
       "      <td>12</td>\n",
       "      <td>Atrophy-00002mg</td>\n",
       "    </tr>\n",
       "    <tr>\n",
       "      <th>1</th>\n",
       "      <td>1</td>\n",
       "      <td>1</td>\n",
       "      <td>86</td>\n",
       "      <td>0</td>\n",
       "      <td>0</td>\n",
       "      <td>0</td>\n",
       "      <td>0</td>\n",
       "      <td>0</td>\n",
       "      <td>0</td>\n",
       "      <td>1</td>\n",
       "      <td>...</td>\n",
       "      <td>1</td>\n",
       "      <td>4</td>\n",
       "      <td>0</td>\n",
       "      <td>1</td>\n",
       "      <td>0</td>\n",
       "      <td>0</td>\n",
       "      <td>0</td>\n",
       "      <td>1</td>\n",
       "      <td>36</td>\n",
       "      <td>Atrophy-0001297</td>\n",
       "    </tr>\n",
       "    <tr>\n",
       "      <th>2</th>\n",
       "      <td>2</td>\n",
       "      <td>2</td>\n",
       "      <td>45</td>\n",
       "      <td>0</td>\n",
       "      <td>0</td>\n",
       "      <td>0</td>\n",
       "      <td>1</td>\n",
       "      <td>0</td>\n",
       "      <td>0</td>\n",
       "      <td>0</td>\n",
       "      <td>...</td>\n",
       "      <td>1</td>\n",
       "      <td>3</td>\n",
       "      <td>0</td>\n",
       "      <td>0</td>\n",
       "      <td>0</td>\n",
       "      <td>0</td>\n",
       "      <td>0</td>\n",
       "      <td>0</td>\n",
       "      <td>16</td>\n",
       "      <td>Atrophy-0001apo</td>\n",
       "    </tr>\n",
       "  </tbody>\n",
       "</table>\n",
       "<p>3 rows × 28 columns</p>\n",
       "</div>"
      ],
      "text/plain": [
       "   index Sex Age Narrow pitch range Decreased volume Fatigue Dryness Lumping  \\\n",
       "0      0   1  97                  0                0       0       0       0   \n",
       "1      1   1  86                  0                0       0       0       0   \n",
       "2      2   2  45                  0                0       0       1       0   \n",
       "\n",
       "  Heartburn Choking  ... Noise at work Occupational vocal demand Diabetes  \\\n",
       "0         0       1  ...             1                         2        0   \n",
       "1         0       1  ...             1                         4        0   \n",
       "2         0       0  ...             1                         3        0   \n",
       "\n",
       "   Hypertension CAD  Head and Neck Cancer Head injury CVA  \\\n",
       "0             0   0                     0           0   0   \n",
       "1             1   0                     0           0   1   \n",
       "2             0   0                     0           0   0   \n",
       "\n",
       "  Voice handicap index - 10         filename  \n",
       "0                        12  Atrophy-00002mg  \n",
       "1                        36  Atrophy-0001297  \n",
       "2                        16  Atrophy-0001apo  \n",
       "\n",
       "[3 rows x 28 columns]"
      ]
     },
     "execution_count": 20,
     "metadata": {},
     "output_type": "execute_result"
    }
   ],
   "source": [
    "test_files = demographics.loc[0:2]\n",
    "test_files"
   ]
  },
  {
   "cell_type": "code",
   "execution_count": 21,
   "id": "78f42f9e-f7b3-4391-9f0e-c0c3f224d452",
   "metadata": {},
   "outputs": [
    {
     "data": {
      "text/html": [
       "<div>\n",
       "<style scoped>\n",
       "    .dataframe tbody tr th:only-of-type {\n",
       "        vertical-align: middle;\n",
       "    }\n",
       "\n",
       "    .dataframe tbody tr th {\n",
       "        vertical-align: top;\n",
       "    }\n",
       "\n",
       "    .dataframe thead th {\n",
       "        text-align: right;\n",
       "    }\n",
       "</style>\n",
       "<table border=\"1\" class=\"dataframe\">\n",
       "  <thead>\n",
       "    <tr style=\"text-align: right;\">\n",
       "      <th></th>\n",
       "      <th>mfcc</th>\n",
       "    </tr>\n",
       "  </thead>\n",
       "  <tbody>\n",
       "    <tr>\n",
       "      <th>0</th>\n",
       "      <td>[[-158.49106, -148.60818, -148.57915, -137.122...</td>\n",
       "    </tr>\n",
       "    <tr>\n",
       "      <th>1</th>\n",
       "      <td>[[-447.76328, -263.666, -138.50848, -73.347115...</td>\n",
       "    </tr>\n",
       "    <tr>\n",
       "      <th>2</th>\n",
       "      <td>[[-367.94904, -396.45224, -449.00287, -444.233...</td>\n",
       "    </tr>\n",
       "  </tbody>\n",
       "</table>\n",
       "</div>"
      ],
      "text/plain": [
       "                                                mfcc\n",
       "0  [[-158.49106, -148.60818, -148.57915, -137.122...\n",
       "1  [[-447.76328, -263.666, -138.50848, -73.347115...\n",
       "2  [[-367.94904, -396.45224, -449.00287, -444.233..."
      ]
     },
     "execution_count": 21,
     "metadata": {},
     "output_type": "execute_result"
    }
   ],
   "source": [
    "combined_feature_extractor.transform(test_files)"
   ]
  },
  {
   "cell_type": "code",
   "execution_count": 22,
   "id": "9456ad7d-0728-4bff-b3c7-6553cb31ff52",
   "metadata": {},
   "outputs": [
    {
     "data": {
      "text/plain": [
       "array(['Malignant', 'Benign', 'Benign'], dtype=object)"
      ]
     },
     "execution_count": 22,
     "metadata": {},
     "output_type": "execute_result"
    }
   ],
   "source": [
    "y_pred = new_pipeline.predict(test_files)\n",
    "y_pred"
   ]
  },
  {
   "cell_type": "code",
   "execution_count": 23,
   "id": "5adcea10-0da9-459c-879f-c36601e83044",
   "metadata": {},
   "outputs": [],
   "source": [
    "feature = 'MFCC'\n",
    "models = ['SVM', 'LR', 'NN']\n",
    "inputs = ['Rec_Only', 'Age_Sex', 'Age_Sex_Symptoms', 'Symptoms']"
   ]
  },
  {
   "cell_type": "code",
   "execution_count": 26,
   "id": "e41d357b-adbc-4142-9732-3d68b0ff0869",
   "metadata": {},
   "outputs": [
    {
     "name": "stdout",
     "output_type": "stream",
     "text": [
      "SVM_MFCC_Rec_Only.pkl\n",
      "SVM_MFCC_Age_Sex.pkl\n",
      "SVM_MFCC_Age_Sex_Symptoms.pkl\n",
      "SVM_MFCC_Symptoms.pkl\n",
      "LR_MFCC_Rec_Only.pkl\n",
      "LR_MFCC_Age_Sex.pkl\n",
      "LR_MFCC_Age_Sex_Symptoms.pkl\n",
      "LR_MFCC_Symptoms.pkl\n",
      "NN_MFCC_Rec_Only.pkl\n",
      "NN_MFCC_Age_Sex.pkl\n",
      "NN_MFCC_Age_Sex_Symptoms.pkl\n",
      "NN_MFCC_Symptoms.pkl\n"
     ]
    }
   ],
   "source": [
    "prediction_times = {}\n",
    "for model in models:\n",
    "    for input_val in inputs:\n",
    "        classifier_name = f'{model}_{feature}_{input_val}.pkl'\n",
    "        prediction_times[classifier_name] = []\n",
    "        print(classifier_name)\n",
    "        trained_pipeline = joblib.load(f'{parent_dir}/Models/{classifier_name}')\n",
    "        input_features = trained_pipeline.feature_names_in_\n",
    "\n",
    "        # Define the combined feature extractor with specified columns\n",
    "        combined_feature_extractor = CombinedFeatureExtractor(\n",
    "            audio_dir=audio_dir,\n",
    "            audio_column='filename',\n",
    "            include_columns=input_features\n",
    "        )\n",
    "\n",
    "        # Define the pipeline\n",
    "        new_pipeline = Pipeline([\n",
    "            ('features', combined_feature_extractor),\n",
    "            ('existing', trained_pipeline)  # This is your classifier pipeline\n",
    "        ])\n",
    "        \n",
    "        for i in range(len(demographics)):\n",
    "            start = time.time()\n",
    "            y_pred = new_pipeline.predict(demographics.loc[i:i])\n",
    "            end = time.time()\n",
    "            prediction_times[classifier_name].append(end - start)"
   ]
  },
  {
   "cell_type": "code",
   "execution_count": 27,
   "id": "0499d9e1-f845-4241-8a6a-61b7ba72eb5e",
   "metadata": {},
   "outputs": [
    {
     "data": {
      "text/plain": [
       "['MFCCPredictionTimes.pkl']"
      ]
     },
     "execution_count": 27,
     "metadata": {},
     "output_type": "execute_result"
    }
   ],
   "source": [
    "joblib.dump(prediction_times, 'MFCCPredictionTimes.pkl')"
   ]
  },
  {
   "cell_type": "code",
   "execution_count": 28,
   "id": "df44ca06-9e08-4f81-ac32-954afb6c6bd5",
   "metadata": {},
   "outputs": [
    {
     "data": {
      "image/png": "[encoded data removed]",
      "text/plain": [
       "<Figure size 640x480 with 1 Axes>"
      ]
     },
     "metadata": {},
     "output_type": "display_data"
    }
   ],
   "source": [
    "plt.boxplot(prediction_times.values(), showfliers=False)\n",
    "plt.show()"
   ]
  },
  {
   "cell_type": "code",
   "execution_count": 29,
   "id": "d5c809a7-40a5-4b74-866e-2873de5cc53d",
   "metadata": {},
   "outputs": [
    {
     "data": {
      "image/png": "[encoded data removed]",
      "text/plain": [
       "<Figure size 640x480 with 1 Axes>"
      ]
     },
     "metadata": {},
     "output_type": "display_data"
    }
   ],
   "source": [
    "plt.boxplot(prediction_times.values(), showfliers=True)\n",
    "plt.show()"
   ]
  },
  {
   "cell_type": "code",
   "execution_count": null,
   "id": "97aa29ad-5d8a-47d8-af1a-4c8e499f1a3a",
   "metadata": {},
   "outputs": [],
   "source": []
  }
 ],
 "metadata": {
  "kernelspec": {
   "display_name": "Python 3 (ipykernel)",
   "language": "python",
   "name": "python3"
  },
  "language_info": {
   "codemirror_mode": {
    "name": "ipython",
    "version": 3
   },
   "file_extension": ".py",
   "mimetype": "text/x-python",
   "name": "python",
   "nbconvert_exporter": "python",
   "pygments_lexer": "ipython3",
   "version": "3.12.2"
  }
 },
 "nbformat": 4,
 "nbformat_minor": 5
}
